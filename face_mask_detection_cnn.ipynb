{
  "nbformat": 4,
  "nbformat_minor": 0,
  "metadata": {
    "kernelspec": {
      "display_name": "Python 3",
      "language": "python",
      "name": "python3"
    },
    "language_info": {
      "codemirror_mode": {
        "name": "ipython",
        "version": 3
      },
      "file_extension": ".py",
      "mimetype": "text/x-python",
      "name": "python",
      "nbconvert_exporter": "python",
      "pygments_lexer": "ipython3",
      "version": "3.8.2"
    },
    "colab": {
      "name": "face_mask_detection_cnn.ipynb",
      "provenance": [],
      "include_colab_link": true
    }
  },
  "cells": [
    {
      "cell_type": "markdown",
      "metadata": {
        "id": "view-in-github",
        "colab_type": "text"
      },
      "source": [
        "<a href=\"https://colab.research.google.com/github/marabian/face-mask-detection/blob/master/face_mask_detection_cnn.ipynb\" target=\"_parent\"><img src=\"https://colab.research.google.com/assets/colab-badge.svg\" alt=\"Open In Colab\"/></a>"
      ]
    },
    {
      "cell_type": "markdown",
      "metadata": {
        "id": "qiKVqvBcg6My",
        "colab_type": "text"
      },
      "source": [
        "# Table of Contents\n",
        "- [0. Objective](#objective)\n",
        "- [1. Data processing](#data_process)\n",
        "- [2. Build and train CNN](#build_and_train_cnn)\n",
        "- [3. Predict using model](#predict_cnn)"
      ]
    },
    {
      "cell_type": "code",
      "metadata": {
        "id": "XJu7w4Sgg6M0",
        "colab_type": "code",
        "colab": {}
      },
      "source": [
        "import numpy as np\n",
        "import tensorflow as tf\n",
        "import pandas as pd\n",
        "from tensorflow import keras\n",
        "from tensorflow.keras.models import Sequential\n",
        "from tensorflow.keras.layers import Activation, Dense, Flatten, BatchNormalization, Conv2D, MaxPool2D, Dropout\n",
        "from tensorflow.keras.optimizers import Adam\n",
        "from tensorflow.keras.metrics import categorical_crossentropy\n",
        "from tensorflow.keras.preprocessing.image import ImageDataGenerator\n",
        "from sklearn.metrics import confusion_matrix\n",
        "from sklearn.utils import shuffle\n",
        "import matplotlib.pyplot as plt\n",
        "import itertools\n",
        "import os\n",
        "import shutil\n",
        "import random\n",
        "from random import randint\n",
        "import glob\n",
        "import warnings\n",
        "warnings.simplefilter(action='ignore', category=FutureWarning)\n",
        "%matplotlib inline"
      ],
      "execution_count": null,
      "outputs": []
    },
    {
      "cell_type": "code",
      "metadata": {
        "id": "0oT7fkt-g6M5",
        "colab_type": "code",
        "colab": {}
      },
      "source": [
        "# check if tensorflow is identifying gpu, uncomment if using gpu\n",
        "#physical_devices = tf.config.experimental.list_physical_devices('GPU')\n",
        "#print(\"Num GPUs Available: \" , len(physical_devices))\n",
        "#tf.config.experimental.set_memory_growth(physical_devices[0], True)"
      ],
      "execution_count": null,
      "outputs": []
    },
    {
      "cell_type": "code",
      "metadata": {
        "id": "T1R_DICQg6M8",
        "colab_type": "code",
        "colab": {
          "base_uri": "https://localhost:8080/",
          "height": 34
        },
        "outputId": "14ed89a3-ae52-42d8-caa4-831e4f51797f"
      },
      "source": [
        "print(os.getcwd())"
      ],
      "execution_count": null,
      "outputs": [
        {
          "output_type": "stream",
          "text": [
            "/content\n"
          ],
          "name": "stdout"
        }
      ]
    },
    {
      "cell_type": "code",
      "metadata": {
        "id": "Uur_rI1IjJyL",
        "colab_type": "code",
        "colab": {}
      },
      "source": [
        "# test"
      ],
      "execution_count": null,
      "outputs": []
    },
    {
      "cell_type": "code",
      "metadata": {
        "id": "WFK48vo-ieOX",
        "colab_type": "code",
        "colab": {
          "base_uri": "https://localhost:8080/",
          "height": 122
        },
        "outputId": "9b1dc93d-7c8d-49d4-9e36-b6dd25123eaf"
      },
      "source": [
        "from google.colab import drive\n",
        "drive.mount('/content/drive')"
      ],
      "execution_count": 8,
      "outputs": [
        {
          "output_type": "stream",
          "text": [
            "Go to this URL in a browser: https://accounts.google.com/o/oauth2/auth?client_id=947318989803-6bn6qk8qdgf4n4g3pfee6491hc0brc4i.apps.googleusercontent.com&redirect_uri=urn%3aietf%3awg%3aoauth%3a2.0%3aoob&scope=email%20https%3a%2f%2fwww.googleapis.com%2fauth%2fdocs.test%20https%3a%2f%2fwww.googleapis.com%2fauth%2fdrive%20https%3a%2f%2fwww.googleapis.com%2fauth%2fdrive.photos.readonly%20https%3a%2f%2fwww.googleapis.com%2fauth%2fpeopleapi.readonly&response_type=code\n",
            "\n",
            "Enter your authorization code:\n",
            "··········\n",
            "Mounted at /content/drive\n"
          ],
          "name": "stdout"
        }
      ]
    },
    {
      "cell_type": "code",
      "metadata": {
        "id": "44l9imnOjSTp",
        "colab_type": "code",
        "colab": {
          "base_uri": "https://localhost:8080/",
          "height": 34
        },
        "outputId": "a4292e82-59c4-48f9-c186-0dec87d08968"
      },
      "source": [
        "print(os.getcwd())"
      ],
      "execution_count": 9,
      "outputs": [
        {
          "output_type": "stream",
          "text": [
            "/content\n"
          ],
          "name": "stdout"
        }
      ]
    },
    {
      "cell_type": "code",
      "metadata": {
        "id": "FJ3Fz6Awjtwk",
        "colab_type": "code",
        "colab": {
          "base_uri": "https://localhost:8080/",
          "height": 34
        },
        "outputId": "0bddfd0b-5e9e-44b0-e242-46e373480ca7"
      },
      "source": [
        "%cd \"/content/drive/My Drive/projects/face-mask-detection\""
      ],
      "execution_count": 22,
      "outputs": [
        {
          "output_type": "stream",
          "text": [
            "/content/drive/My Drive/projects/face-mask-detection\n"
          ],
          "name": "stdout"
        }
      ]
    },
    {
      "cell_type": "code",
      "metadata": {
        "id": "UrNtY725jw1l",
        "colab_type": "code",
        "colab": {
          "base_uri": "https://localhost:8080/",
          "height": 51
        },
        "outputId": "0f5812b5-fe90-44f2-ae9c-7f114c04dd53"
      },
      "source": [
        "!ls"
      ],
      "execution_count": 23,
      "outputs": [
        {
          "output_type": "stream",
          "text": [
            "data\t\t\t       models\t\t   README.md\t     split.py\n",
            "face_mask_detection_cnn.ipynb  old_notebook.ipynb  requirements.txt\n"
          ],
          "name": "stdout"
        }
      ]
    },
    {
      "cell_type": "markdown",
      "metadata": {
        "id": "mK1tAp_Jg6NB",
        "colab_type": "text"
      },
      "source": [
        "<a id='objective'></a> \n",
        "# 0. Objective\n",
        "Build and train a **Convolutional Neural Network** using Tensorflow's Keras API that can classify images of people by detecting face masks. The goal is to train a NN model that can take an image of a person, and identify if they are wearing a face-mask.\n",
        "\n",
        "The model should classify images as either \"mask\" or \"no-mask\"."
      ]
    },
    {
      "cell_type": "markdown",
      "metadata": {
        "id": "Hj9giDQ4g6NC",
        "colab_type": "text"
      },
      "source": [
        "<a id='data_process'></a> \n",
        "# 1. Data Processing\n",
        "First thing we need to do is to get and prepare out data set for which we will be training our model.\n",
        "The data set we’ll use is from the Kaggle [Face Mask Detection Dataset](https://www.kaggle.com/wobotintelligence/face-mask-detection-dataset)\n",
        "\n",
        "Download the dataset from Kaggle [here](https://www.kaggle.com/wobotintelligence/face-mask-detection-dataset). Our raw dataset contains 6,024 total images (in .png .jpg .jpeg formats) found under directory *data/medical_masks/images*. The first 1800 images are not labeled, and should be used for the **test set**. The remaining 4,224 can be used for **training** and **validation sets**. <br>\n",
        "Lets take a look at the .csv file provided..."
      ]
    },
    {
      "cell_type": "markdown",
      "metadata": {
        "id": "_Gc5KKwgg6NC",
        "colab_type": "text"
      },
      "source": [
        "## Load csv data"
      ]
    },
    {
      "cell_type": "code",
      "metadata": {
        "id": "YmUyyP1Jg6ND",
        "colab_type": "code",
        "colab": {}
      },
      "source": [
        "# Let's see what our data looks like\n",
        "df = pd.read_csv('data/train.csv')"
      ],
      "execution_count": 24,
      "outputs": []
    },
    {
      "cell_type": "markdown",
      "metadata": {
        "id": "3LLI5ldVg6NF",
        "colab_type": "text"
      },
      "source": [
        "In the dataframe below, each sample has a: \n",
        "\n",
        "- **name** - these are the names of the images in our dataset.\n",
        "- **x1, x2, y1, y2** - [bounding box](https://medium.com/anolytics/the-use-of-bounding-boxes-in-image-annotation-for-object-detection-6371711eabba) coordinates\n",
        "- **classname** - one of 20 possible classes: hijab_niqab, mask_colorful, mask_surgical, face_no_mask, face_with_mask_incorrect, face_with_mask, face_other_covering, scarf_bandana, balaclava_ski_mask, face_shield, other, gas_mask, turban, helmet, sunglasses, eyeglasses, hair_net, hat, goggles, hood. We will only consider the classes **face_with_mask** and **face_no_mask**.\n",
        "\n",
        "We will use this data to construct new images using the script `split.py`"
      ]
    },
    {
      "cell_type": "code",
      "metadata": {
        "id": "Dy7Q0GGCg6NG",
        "colab_type": "code",
        "colab": {
          "base_uri": "https://localhost:8080/",
          "height": 221
        },
        "outputId": "ccfbd0fe-d15a-400b-d42c-7bb068620ad7"
      },
      "source": [
        "# Check out a few rows of the dataframe\n",
        "print(df.shape)\n",
        "df.head()"
      ],
      "execution_count": 25,
      "outputs": [
        {
          "output_type": "stream",
          "text": [
            "(15412, 6)\n"
          ],
          "name": "stdout"
        },
        {
          "output_type": "execute_result",
          "data": {
            "text/html": [
              "<div>\n",
              "<style scoped>\n",
              "    .dataframe tbody tr th:only-of-type {\n",
              "        vertical-align: middle;\n",
              "    }\n",
              "\n",
              "    .dataframe tbody tr th {\n",
              "        vertical-align: top;\n",
              "    }\n",
              "\n",
              "    .dataframe thead th {\n",
              "        text-align: right;\n",
              "    }\n",
              "</style>\n",
              "<table border=\"1\" class=\"dataframe\">\n",
              "  <thead>\n",
              "    <tr style=\"text-align: right;\">\n",
              "      <th></th>\n",
              "      <th>name</th>\n",
              "      <th>x1</th>\n",
              "      <th>x2</th>\n",
              "      <th>y1</th>\n",
              "      <th>y2</th>\n",
              "      <th>classname</th>\n",
              "    </tr>\n",
              "  </thead>\n",
              "  <tbody>\n",
              "    <tr>\n",
              "      <th>0</th>\n",
              "      <td>2756.png</td>\n",
              "      <td>69</td>\n",
              "      <td>126</td>\n",
              "      <td>294</td>\n",
              "      <td>392</td>\n",
              "      <td>face_with_mask</td>\n",
              "    </tr>\n",
              "    <tr>\n",
              "      <th>1</th>\n",
              "      <td>2756.png</td>\n",
              "      <td>505</td>\n",
              "      <td>10</td>\n",
              "      <td>723</td>\n",
              "      <td>283</td>\n",
              "      <td>face_with_mask</td>\n",
              "    </tr>\n",
              "    <tr>\n",
              "      <th>2</th>\n",
              "      <td>2756.png</td>\n",
              "      <td>75</td>\n",
              "      <td>252</td>\n",
              "      <td>264</td>\n",
              "      <td>390</td>\n",
              "      <td>mask_colorful</td>\n",
              "    </tr>\n",
              "    <tr>\n",
              "      <th>3</th>\n",
              "      <td>2756.png</td>\n",
              "      <td>521</td>\n",
              "      <td>136</td>\n",
              "      <td>711</td>\n",
              "      <td>277</td>\n",
              "      <td>mask_colorful</td>\n",
              "    </tr>\n",
              "    <tr>\n",
              "      <th>4</th>\n",
              "      <td>6098.jpg</td>\n",
              "      <td>360</td>\n",
              "      <td>85</td>\n",
              "      <td>728</td>\n",
              "      <td>653</td>\n",
              "      <td>face_no_mask</td>\n",
              "    </tr>\n",
              "  </tbody>\n",
              "</table>\n",
              "</div>"
            ],
            "text/plain": [
              "       name   x1   x2   y1   y2       classname\n",
              "0  2756.png   69  126  294  392  face_with_mask\n",
              "1  2756.png  505   10  723  283  face_with_mask\n",
              "2  2756.png   75  252  264  390   mask_colorful\n",
              "3  2756.png  521  136  711  277   mask_colorful\n",
              "4  6098.jpg  360   85  728  653    face_no_mask"
            ]
          },
          "metadata": {
            "tags": []
          },
          "execution_count": 25
        }
      ]
    },
    {
      "cell_type": "markdown",
      "metadata": {
        "id": "eB18ACrpg6NI",
        "colab_type": "text"
      },
      "source": [
        "## Data processing using `split.py`"
      ]
    },
    {
      "cell_type": "markdown",
      "metadata": {
        "id": "AeLf60Iig6NJ",
        "colab_type": "text"
      },
      "source": [
        "### Run script `split.py` to generate images and place them in train, valid, test directories"
      ]
    },
    {
      "cell_type": "markdown",
      "metadata": {
        "id": "7D_3IJ-rg6NJ",
        "colab_type": "text"
      },
      "source": [
        "Run the script found in the project directory called `split.py`. This script takes 5 arguments: The path to raw image data, the path to *train.csv*, % for training set, % for validation set, % for test. This script uses the image names, bounding box data, and classnames provided in the dataset to construct new images. These images are placed in **train/**, **valid/**, and **test**/ directories. The percentages specify the ratio of the split for each dataset."
      ]
    },
    {
      "cell_type": "markdown",
      "metadata": {
        "id": "ERsl6NZzg6NK",
        "colab_type": "text"
      },
      "source": [
        "## Image processing using Keras"
      ]
    },
    {
      "cell_type": "code",
      "metadata": {
        "id": "PC6Sf0Lig6NL",
        "colab_type": "code",
        "colab": {}
      },
      "source": [
        "train_path = 'data/train'\n",
        "valid_path = 'data/valid'\n",
        "test_path = 'data/test'"
      ],
      "execution_count": null,
      "outputs": []
    },
    {
      "cell_type": "markdown",
      "metadata": {
        "id": "J7xgVPvFg6NN",
        "colab_type": "text"
      },
      "source": [
        "### Put images into [Keras Data Generator](https://stanford.edu/~shervine/blog/keras-how-to-generate-data-on-the-fly) format\n",
        "[More on Data Generators](https://towardsdatascience.com/keras-data-generators-and-how-to-use-them-b69129ed779c)\n",
        "This will basically create batches of data from the directories where our datasets reside. These batches of data will be able to be passed to the Sequential model using the **fit** function."
      ]
    },
    {
      "cell_type": "code",
      "metadata": {
        "id": "9tldGR-Ig6NO",
        "colab_type": "code",
        "colab": {},
        "outputId": "4d7bfa99-e5d2-417f-d836-cf8cdc895d11"
      },
      "source": [
        "# Let's preprocess the images using Keras\n",
        "train_batches = ImageDataGenerator(rescale=1./255, rotation_range=40, width_shift_range=0.1, height_shift_range=0.1, horizontal_flip=True) \\\n",
        "    .flow_from_directory(directory=train_path, target_size=(224,224), classes=['mask', 'no-mask'], batch_size=10)\n",
        "\n",
        "valid_batches = ImageDataGenerator(rescale=1./255) \\\n",
        "    .flow_from_directory(directory=valid_path, target_size=(224,224), classes=['mask', 'no-mask'], batch_size=10)\n",
        "\n",
        "# shuffle=False because when we use our batches for inference, we want to look at the results in a confusion matrix\n",
        "# so we need to access the unshuffled labels for our test set. \n",
        "test_batches = ImageDataGenerator(rescale=1./255) \\\n",
        "    .flow_from_directory(directory=test_path, target_size=(224,224), classes=['mask', 'no-mask'], batch_size=10, shuffle=False)"
      ],
      "execution_count": null,
      "outputs": [
        {
          "output_type": "stream",
          "text": [
            "Found 4600 images belonging to 2 classes.\n",
            "Found 862 images belonging to 2 classes.\n",
            "Found 287 images belonging to 2 classes.\n"
          ],
          "name": "stdout"
        }
      ]
    },
    {
      "cell_type": "code",
      "metadata": {
        "id": "m6IA8uGQg6NR",
        "colab_type": "code",
        "colab": {}
      },
      "source": [
        "assert train_batches.n == 4600 \n",
        "assert valid_batches.n == 862 \n",
        "assert test_batches.n == 287 \n",
        "assert train_batches.num_classes == valid_batches.num_classes == test_batches.num_classes"
      ],
      "execution_count": null,
      "outputs": []
    },
    {
      "cell_type": "markdown",
      "metadata": {
        "id": "pHaw5glXg6NV",
        "colab_type": "text"
      },
      "source": [
        "### Grab a single batch of images and corresponding labels from our training batches\n",
        "Since our batch size is 10, this should be 10 images along with 10 corresponing labels. Lets print some of these images using this function pulled directly from [Tensorflow's website](https://www.tensorflow.org/tutorials/images/classification#visualize_training_images)."
      ]
    },
    {
      "cell_type": "code",
      "metadata": {
        "id": "nFhhumAQg6NW",
        "colab_type": "code",
        "colab": {
          "base_uri": "https://localhost:8080/",
          "height": 164
        },
        "outputId": "cc72efb4-8880-433c-8f4e-c0ea2dcc51c0"
      },
      "source": [
        "imgs, labels = next(train_batches)"
      ],
      "execution_count": 45,
      "outputs": [
        {
          "output_type": "error",
          "ename": "NameError",
          "evalue": "ignored",
          "traceback": [
            "\u001b[0;31m---------------------------------------------------------------------------\u001b[0m",
            "\u001b[0;31mNameError\u001b[0m                                 Traceback (most recent call last)",
            "\u001b[0;32m<ipython-input-45-f59bc0e91187>\u001b[0m in \u001b[0;36m<module>\u001b[0;34m()\u001b[0m\n\u001b[0;32m----> 1\u001b[0;31m \u001b[0mimgs\u001b[0m\u001b[0;34m,\u001b[0m \u001b[0mlabels\u001b[0m \u001b[0;34m=\u001b[0m \u001b[0mnext\u001b[0m\u001b[0;34m(\u001b[0m\u001b[0mtrain_batches\u001b[0m\u001b[0;34m)\u001b[0m\u001b[0;34m\u001b[0m\u001b[0;34m\u001b[0m\u001b[0m\n\u001b[0m",
            "\u001b[0;31mNameError\u001b[0m: name 'train_batches' is not defined"
          ]
        }
      ]
    },
    {
      "cell_type": "code",
      "metadata": {
        "id": "UvDbRll2g6NY",
        "colab_type": "code",
        "colab": {}
      },
      "source": [
        "def plotImages(images_arr):\n",
        "    fig, axes = plt.subplots(1, 10, figsize=(20,20))\n",
        "    axes = axes.flatten()\n",
        "    for img, ax in zip( images_arr, axes):\n",
        "        ax.imshow(img)\n",
        "        ax.axis('off')\n",
        "    plt.tight_layout()\n",
        "    plt.show()"
      ],
      "execution_count": 48,
      "outputs": []
    },
    {
      "cell_type": "code",
      "metadata": {
        "id": "yHAbQCSvg6Nb",
        "colab_type": "code",
        "colab": {
          "base_uri": "https://localhost:8080/",
          "height": 181
        },
        "outputId": "642773fc-3459-4580-809c-d69f1fd8d284"
      },
      "source": [
        "plotImages(imgs)\n",
        "print(labels)"
      ],
      "execution_count": 47,
      "outputs": [
        {
          "output_type": "error",
          "ename": "NameError",
          "evalue": "ignored",
          "traceback": [
            "\u001b[0;31m---------------------------------------------------------------------------\u001b[0m",
            "\u001b[0;31mNameError\u001b[0m                                 Traceback (most recent call last)",
            "\u001b[0;32m<ipython-input-47-fe7c1d79101c>\u001b[0m in \u001b[0;36m<module>\u001b[0;34m()\u001b[0m\n\u001b[0;32m----> 1\u001b[0;31m \u001b[0mplotImages\u001b[0m\u001b[0;34m(\u001b[0m\u001b[0mimgs\u001b[0m\u001b[0;34m)\u001b[0m\u001b[0;34m\u001b[0m\u001b[0;34m\u001b[0m\u001b[0m\n\u001b[0m\u001b[1;32m      2\u001b[0m \u001b[0mprint\u001b[0m\u001b[0;34m(\u001b[0m\u001b[0mlabels\u001b[0m\u001b[0;34m)\u001b[0m\u001b[0;34m\u001b[0m\u001b[0;34m\u001b[0m\u001b[0m\n",
            "\u001b[0;31mNameError\u001b[0m: name 'imgs' is not defined"
          ]
        }
      ]
    },
    {
      "cell_type": "markdown",
      "metadata": {
        "id": "iDZtaysEg6Nd",
        "colab_type": "text"
      },
      "source": [
        "As seen above, the labels are [one-hot encoded](https://deeplizard.com/learn/video/v_4KWmkwmsU) vectors representing either 'mask' or 'no-mask'. A [1, 0] represents **mask**, and a [0, 1] represents **no-mask**."
      ]
    },
    {
      "cell_type": "markdown",
      "metadata": {
        "id": "wKM8PD6Ug6Ne",
        "colab_type": "text"
      },
      "source": [
        "<a id='build_and_train_cnn'></a>\n",
        "# 2. Build and Train a Convolutional Neural Network"
      ]
    },
    {
      "cell_type": "markdown",
      "metadata": {
        "id": "hkMKTUmRg6Ne",
        "colab_type": "text"
      },
      "source": [
        "## Lets create our CNN model! - first try"
      ]
    },
    {
      "cell_type": "code",
      "metadata": {
        "id": "eZc69yQcg6Nf",
        "colab_type": "code",
        "colab": {}
      },
      "source": [
        "# first try\n",
        "model = Sequential([\n",
        "    Conv2D(filters=64, kernel_size=(3, 3), activation='relu', padding='same', input_shape=(224,224,3)),\n",
        "    MaxPool2D(pool_size=(2, 2), strides=2),\n",
        "    Conv2D(filters=64, kernel_size=(3, 3), activation='relu', padding='same'),\n",
        "    MaxPool2D(pool_size=(2, 2), strides=2),\n",
        "    Conv2D(filters=128, kernel_size=(3, 3), activation='relu', padding='same'),\n",
        "    MaxPool2D(pool_size=(2, 2), strides=2),\n",
        "    Flatten(),\n",
        "    Dense(units=256, activation='relu'), # was 128\n",
        "    Dropout(0.5), # was 0.4\n",
        "    Dense(units=2, activation='softmax')\n",
        "])"
      ],
      "execution_count": 38,
      "outputs": []
    },
    {
      "cell_type": "code",
      "metadata": {
        "id": "UNsvfm4eg6Ni",
        "colab_type": "code",
        "colab": {
          "base_uri": "https://localhost:8080/",
          "height": 493
        },
        "outputId": "db9bfb07-380e-4d9b-ba0d-88a3bcd0629d"
      },
      "source": [
        "model.summary()"
      ],
      "execution_count": 39,
      "outputs": [
        {
          "output_type": "stream",
          "text": [
            "Model: \"sequential_1\"\n",
            "_________________________________________________________________\n",
            "Layer (type)                 Output Shape              Param #   \n",
            "=================================================================\n",
            "conv2d (Conv2D)              (None, 224, 224, 64)      1792      \n",
            "_________________________________________________________________\n",
            "max_pooling2d (MaxPooling2D) (None, 112, 112, 64)      0         \n",
            "_________________________________________________________________\n",
            "conv2d_1 (Conv2D)            (None, 112, 112, 64)      36928     \n",
            "_________________________________________________________________\n",
            "max_pooling2d_1 (MaxPooling2 (None, 56, 56, 64)        0         \n",
            "_________________________________________________________________\n",
            "conv2d_2 (Conv2D)            (None, 56, 56, 128)       73856     \n",
            "_________________________________________________________________\n",
            "max_pooling2d_2 (MaxPooling2 (None, 28, 28, 128)       0         \n",
            "_________________________________________________________________\n",
            "flatten (Flatten)            (None, 100352)            0         \n",
            "_________________________________________________________________\n",
            "dense_1 (Dense)              (None, 256)               25690368  \n",
            "_________________________________________________________________\n",
            "dropout (Dropout)            (None, 256)               0         \n",
            "_________________________________________________________________\n",
            "dense_2 (Dense)              (None, 2)                 514       \n",
            "=================================================================\n",
            "Total params: 25,803,458\n",
            "Trainable params: 25,803,458\n",
            "Non-trainable params: 0\n",
            "_________________________________________________________________\n"
          ],
          "name": "stdout"
        }
      ]
    },
    {
      "cell_type": "code",
      "metadata": {
        "id": "0ROIJMLpg6Nk",
        "colab_type": "code",
        "colab": {}
      },
      "source": [
        "model.compile(optimizer=Adam(lr=0.0001), loss='categorical_crossentropy', metrics=['accuracy'])"
      ],
      "execution_count": 40,
      "outputs": []
    },
    {
      "cell_type": "code",
      "metadata": {
        "id": "T3OtELiNg6Nl",
        "colab_type": "code",
        "colab": {},
        "outputId": "50f63716-c615-4184-900f-1bbb66e158a7"
      },
      "source": [
        "history_m1 = model.fit(x=train_batches,\n",
        "    steps_per_epoch=len(train_batches),\n",
        "    validation_data=valid_batches,\n",
        "    validation_steps=len(valid_batches),\n",
        "    epochs=50, # was best at 9\n",
        "    verbose=2\n",
        ")"
      ],
      "execution_count": null,
      "outputs": [
        {
          "output_type": "stream",
          "text": [
            "Epoch 1/50\n",
            "460/460 - 193s - loss: 0.3461 - accuracy: 0.8502 - val_loss: 0.2383 - val_accuracy: 0.9084\n",
            "Epoch 2/50\n",
            "460/460 - 193s - loss: 0.2622 - accuracy: 0.8867 - val_loss: 0.2207 - val_accuracy: 0.9026\n",
            "Epoch 3/50\n",
            "460/460 - 192s - loss: 0.2469 - accuracy: 0.8941 - val_loss: 0.1912 - val_accuracy: 0.9316\n",
            "Epoch 4/50\n",
            "460/460 - 192s - loss: 0.2254 - accuracy: 0.9093 - val_loss: 0.1921 - val_accuracy: 0.9258\n",
            "Epoch 5/50\n",
            "460/460 - 193s - loss: 0.2188 - accuracy: 0.9157 - val_loss: 0.2182 - val_accuracy: 0.9165\n",
            "Epoch 6/50\n",
            "460/460 - 192s - loss: 0.2209 - accuracy: 0.9111 - val_loss: 0.1953 - val_accuracy: 0.9281\n",
            "Epoch 7/50\n",
            "460/460 - 193s - loss: 0.2047 - accuracy: 0.9215 - val_loss: 0.1920 - val_accuracy: 0.9316\n",
            "Epoch 8/50\n",
            "460/460 - 192s - loss: 0.2009 - accuracy: 0.9213 - val_loss: 0.1973 - val_accuracy: 0.9188\n",
            "Epoch 9/50\n",
            "460/460 - 192s - loss: 0.1970 - accuracy: 0.9235 - val_loss: 0.1723 - val_accuracy: 0.9385\n",
            "Epoch 10/50\n",
            "460/460 - 193s - loss: 0.1867 - accuracy: 0.9265 - val_loss: 0.1750 - val_accuracy: 0.9374\n",
            "Epoch 11/50\n",
            "460/460 - 193s - loss: 0.1858 - accuracy: 0.9300 - val_loss: 0.1745 - val_accuracy: 0.9408\n",
            "Epoch 12/50\n",
            "460/460 - 194s - loss: 0.1874 - accuracy: 0.9291 - val_loss: 0.1643 - val_accuracy: 0.9374\n",
            "Epoch 13/50\n",
            "460/460 - 192s - loss: 0.1657 - accuracy: 0.9348 - val_loss: 0.1735 - val_accuracy: 0.9397\n",
            "Epoch 14/50\n",
            "460/460 - 193s - loss: 0.1739 - accuracy: 0.9339 - val_loss: 0.1715 - val_accuracy: 0.9490\n",
            "Epoch 15/50\n",
            "460/460 - 192s - loss: 0.1637 - accuracy: 0.9348 - val_loss: 0.1654 - val_accuracy: 0.9455\n",
            "Epoch 16/50\n",
            "460/460 - 194s - loss: 0.1676 - accuracy: 0.9363 - val_loss: 0.1707 - val_accuracy: 0.9513\n",
            "Epoch 17/50\n",
            "460/460 - 193s - loss: 0.1654 - accuracy: 0.9343 - val_loss: 0.1487 - val_accuracy: 0.9501\n",
            "Epoch 18/50\n",
            "460/460 - 192s - loss: 0.1497 - accuracy: 0.9443 - val_loss: 0.1508 - val_accuracy: 0.9466\n",
            "Epoch 19/50\n",
            "460/460 - 192s - loss: 0.1540 - accuracy: 0.9422 - val_loss: 0.1496 - val_accuracy: 0.9501\n",
            "Epoch 20/50\n",
            "460/460 - 191s - loss: 0.1455 - accuracy: 0.9446 - val_loss: 0.1482 - val_accuracy: 0.9501\n",
            "Epoch 21/50\n",
            "460/460 - 192s - loss: 0.1504 - accuracy: 0.9454 - val_loss: 0.1604 - val_accuracy: 0.9443\n",
            "Epoch 22/50\n",
            "460/460 - 192s - loss: 0.1486 - accuracy: 0.9459 - val_loss: 0.1513 - val_accuracy: 0.9466\n",
            "Epoch 23/50\n",
            "460/460 - 191s - loss: 0.1316 - accuracy: 0.9511 - val_loss: 0.1424 - val_accuracy: 0.9548\n",
            "Epoch 24/50\n",
            "460/460 - 192s - loss: 0.1341 - accuracy: 0.9452 - val_loss: 0.1526 - val_accuracy: 0.9524\n",
            "Epoch 25/50\n",
            "460/460 - 192s - loss: 0.1496 - accuracy: 0.9439 - val_loss: 0.1455 - val_accuracy: 0.9559\n",
            "Epoch 26/50\n",
            "460/460 - 191s - loss: 0.1399 - accuracy: 0.9454 - val_loss: 0.1587 - val_accuracy: 0.9536\n",
            "Epoch 27/50\n",
            "460/460 - 192s - loss: 0.1248 - accuracy: 0.9552 - val_loss: 0.1675 - val_accuracy: 0.9432\n",
            "Epoch 28/50\n",
            "460/460 - 192s - loss: 0.1308 - accuracy: 0.9528 - val_loss: 0.1357 - val_accuracy: 0.9559\n",
            "Epoch 29/50\n",
            "460/460 - 192s - loss: 0.1234 - accuracy: 0.9541 - val_loss: 0.1507 - val_accuracy: 0.9617\n",
            "Epoch 30/50\n",
            "460/460 - 192s - loss: 0.1309 - accuracy: 0.9554 - val_loss: 0.1527 - val_accuracy: 0.9582\n",
            "Epoch 31/50\n",
            "460/460 - 191s - loss: 0.1210 - accuracy: 0.9550 - val_loss: 0.1594 - val_accuracy: 0.9490\n",
            "Epoch 32/50\n",
            "460/460 - 191s - loss: 0.1305 - accuracy: 0.9485 - val_loss: 0.1484 - val_accuracy: 0.9559\n",
            "Epoch 33/50\n",
            "460/460 - 192s - loss: 0.1126 - accuracy: 0.9574 - val_loss: 0.1529 - val_accuracy: 0.9513\n",
            "Epoch 34/50\n",
            "460/460 - 192s - loss: 0.1158 - accuracy: 0.9550 - val_loss: 0.1572 - val_accuracy: 0.9536\n",
            "Epoch 35/50\n",
            "460/460 - 192s - loss: 0.1207 - accuracy: 0.9504 - val_loss: 0.1387 - val_accuracy: 0.9513\n",
            "Epoch 36/50\n",
            "460/460 - 192s - loss: 0.1136 - accuracy: 0.9565 - val_loss: 0.1738 - val_accuracy: 0.9374\n",
            "Epoch 37/50\n",
            "460/460 - 192s - loss: 0.1184 - accuracy: 0.9602 - val_loss: 0.1660 - val_accuracy: 0.9582\n",
            "Epoch 38/50\n",
            "460/460 - 191s - loss: 0.1106 - accuracy: 0.9596 - val_loss: 0.1521 - val_accuracy: 0.9582\n",
            "Epoch 39/50\n",
            "460/460 - 192s - loss: 0.1206 - accuracy: 0.9580 - val_loss: 0.1436 - val_accuracy: 0.9524\n",
            "Epoch 40/50\n",
            "460/460 - 192s - loss: 0.1132 - accuracy: 0.9593 - val_loss: 0.1267 - val_accuracy: 0.9640\n",
            "Epoch 41/50\n",
            "460/460 - 193s - loss: 0.1091 - accuracy: 0.9602 - val_loss: 0.1273 - val_accuracy: 0.9606\n",
            "Epoch 42/50\n",
            "460/460 - 191s - loss: 0.1109 - accuracy: 0.9604 - val_loss: 0.1521 - val_accuracy: 0.9513\n",
            "Epoch 43/50\n",
            "460/460 - 193s - loss: 0.1021 - accuracy: 0.9624 - val_loss: 0.1801 - val_accuracy: 0.9443\n",
            "Epoch 44/50\n",
            "460/460 - 191s - loss: 0.1050 - accuracy: 0.9609 - val_loss: 0.1565 - val_accuracy: 0.9536\n",
            "Epoch 45/50\n",
            "460/460 - 191s - loss: 0.1109 - accuracy: 0.9607 - val_loss: 0.1521 - val_accuracy: 0.9559\n",
            "Epoch 46/50\n",
            "460/460 - 192s - loss: 0.1022 - accuracy: 0.9643 - val_loss: 0.1314 - val_accuracy: 0.9606\n",
            "Epoch 47/50\n",
            "460/460 - 191s - loss: 0.0972 - accuracy: 0.9646 - val_loss: 0.1403 - val_accuracy: 0.9548\n",
            "Epoch 48/50\n",
            "460/460 - 191s - loss: 0.1006 - accuracy: 0.9637 - val_loss: 0.1523 - val_accuracy: 0.9617\n",
            "Epoch 49/50\n",
            "460/460 - 191s - loss: 0.0921 - accuracy: 0.9635 - val_loss: 0.2152 - val_accuracy: 0.9536\n",
            "Epoch 50/50\n",
            "460/460 - 192s - loss: 0.1001 - accuracy: 0.9622 - val_loss: 0.1523 - val_accuracy: 0.9594\n"
          ],
          "name": "stdout"
        }
      ]
    },
    {
      "cell_type": "code",
      "metadata": {
        "id": "eHEWLa1Kg6No",
        "colab_type": "code",
        "colab": {}
      },
      "source": [
        "model.save_weights('models/first_try.h5')  # always save your weights after training or during training"
      ],
      "execution_count": null,
      "outputs": []
    },
    {
      "cell_type": "code",
      "metadata": {
        "id": "nx2jmGQbg6Nq",
        "colab_type": "code",
        "colab": {}
      },
      "source": [
        "# plot training metrics - learning curves\n",
        "def plot_training_history(history):\n",
        "    fig = plt.figure()\n",
        "    ax = fig.add_\n",
        "    plt.plot(history.history['accuracy'])\n",
        "    plt.plot(history.history['val_accuracy'])\n",
        "    plt.title('model accuracy')\n",
        "    plt.ylabel('accuracy')\n",
        "    plt.xlabel('epoch')\n",
        "    plt.legend(['train', 'val'], loc='upper left')\n",
        "    plt.show()\n",
        "    # summarize history for loss\n",
        "    plt.plot(history.history['loss'])\n",
        "    plt.plot(history.history['val_loss'])\n",
        "    plt.title('model loss')\n",
        "    plt.ylabel('loss')\n",
        "    plt.xlabel('epoch')\n",
        "    plt.legend(['train', 'val'], loc='upper left')\n",
        "    plt.show()"
      ],
      "execution_count": null,
      "outputs": []
    },
    {
      "cell_type": "code",
      "metadata": {
        "id": "9tc6yFKSg6Nr",
        "colab_type": "code",
        "colab": {}
      },
      "source": [
        ""
      ],
      "execution_count": null,
      "outputs": []
    },
    {
      "cell_type": "code",
      "metadata": {
        "id": "6mbCwQYMg6Nt",
        "colab_type": "code",
        "colab": {},
        "outputId": "83ae790a-b0c0-4de5-ef20-d284fc8edf57"
      },
      "source": [
        "plot_training_histor(history_m1)"
      ],
      "execution_count": null,
      "outputs": [
        {
          "output_type": "display_data",
          "data": {
            "image/png": "[encoded data removed]",
            "text/plain": [
              "<Figure size 432x288 with 1 Axes>"
            ]
          },
          "metadata": {
            "tags": []
          }
        },
        {
          "output_type": "display_data",
          "data": {
            "image/png": "[encoded data removed]",
            "text/plain": [
              "<Figure size 432x288 with 1 Axes>"
            ]
          },
          "metadata": {
            "tags": [],
            "needs_background": "light"
          }
        }
      ]
    },
    {
      "cell_type": "markdown",
      "metadata": {
        "id": "iiuUr1TZg6Nw",
        "colab_type": "text"
      },
      "source": [
        "Looking at the loss curve, we can see that the validation accuracy is optimal around epoch 40 and goes up after. We should stop training at that point."
      ]
    },
    {
      "cell_type": "markdown",
      "metadata": {
        "id": "nMPudi2Pg6Nw",
        "colab_type": "text"
      },
      "source": [
        "## Let's try fine tuning vgg16 - second try"
      ]
    },
    {
      "cell_type": "markdown",
      "metadata": {
        "id": "DE0pjOI8g6Ny",
        "colab_type": "text"
      },
      "source": [
        "The only preprocessing applied to the images is the same preprocessing step used by the popular [vgg16](https://neurohive.io/en/popular-networks/vgg16/) image classifier CNN model."
      ]
    },
    {
      "cell_type": "code",
      "metadata": {
        "id": "a-cwr8Eag6Ny",
        "colab_type": "code",
        "colab": {
          "base_uri": "https://localhost:8080/",
          "height": 266
        },
        "outputId": "a0156cfa-7282-4f9e-fa20-f78468529a67"
      },
      "source": [
        "# Let's preprocess the images in the same way vgg16 does\n",
        "train_batches = ImageDataGenerator(preprocessing_function=tf.keras.applications.vgg16.preprocess_input, horizontal_flip=True) \\\n",
        "    .flow_from_directory(directory=train_path, target_size=(224,224), classes=['mask', 'no-mask'], batch_size=10)\n",
        "\n",
        "valid_batches = ImageDataGenerator(preprocessing_function=tf.keras.applications.vgg16.preprocess_input) \\\n",
        "    .flow_from_directory(directory=valid_path, target_size=(224,224), classes=['mask', 'no-mask'], batch_size=10)\n",
        "\n",
        "test_batches = ImageDataGenerator(preprocessing_function=tf.keras.applications.vgg16.preprocess_input) \\\n",
        "    .flow_from_directory(directory=test_path, target_size=(224,224), classes=['mask', 'no-mask'], batch_size=10, shuffle=False)"
      ],
      "execution_count": 26,
      "outputs": [
        {
          "output_type": "error",
          "ename": "NameError",
          "evalue": "ignored",
          "traceback": [
            "\u001b[0;31m---------------------------------------------------------------------------\u001b[0m",
            "\u001b[0;31mNameError\u001b[0m                                 Traceback (most recent call last)",
            "\u001b[0;32m<ipython-input-26-7b95a032ddaf>\u001b[0m in \u001b[0;36m<module>\u001b[0;34m()\u001b[0m\n\u001b[1;32m      1\u001b[0m \u001b[0;31m# Let's preprocess the images in the same way vgg16 does\u001b[0m\u001b[0;34m\u001b[0m\u001b[0;34m\u001b[0m\u001b[0;34m\u001b[0m\u001b[0m\n\u001b[0;32m----> 2\u001b[0;31m \u001b[0mtrain_batches\u001b[0m \u001b[0;34m=\u001b[0m \u001b[0mImageDataGenerator\u001b[0m\u001b[0;34m(\u001b[0m\u001b[0mpreprocessing_function\u001b[0m\u001b[0;34m=\u001b[0m\u001b[0mtf\u001b[0m\u001b[0;34m.\u001b[0m\u001b[0mkeras\u001b[0m\u001b[0;34m.\u001b[0m\u001b[0mapplications\u001b[0m\u001b[0;34m.\u001b[0m\u001b[0mvgg16\u001b[0m\u001b[0;34m.\u001b[0m\u001b[0mpreprocess_input\u001b[0m\u001b[0;34m,\u001b[0m \u001b[0mhorizontal_flip\u001b[0m\u001b[0;34m=\u001b[0m\u001b[0;32mTrue\u001b[0m\u001b[0;34m)\u001b[0m     \u001b[0;34m.\u001b[0m\u001b[0mflow_from_directory\u001b[0m\u001b[0;34m(\u001b[0m\u001b[0mdirectory\u001b[0m\u001b[0;34m=\u001b[0m\u001b[0mtrain_path\u001b[0m\u001b[0;34m,\u001b[0m \u001b[0mtarget_size\u001b[0m\u001b[0;34m=\u001b[0m\u001b[0;34m(\u001b[0m\u001b[0;36m224\u001b[0m\u001b[0;34m,\u001b[0m\u001b[0;36m224\u001b[0m\u001b[0;34m)\u001b[0m\u001b[0;34m,\u001b[0m \u001b[0mclasses\u001b[0m\u001b[0;34m=\u001b[0m\u001b[0;34m[\u001b[0m\u001b[0;34m'mask'\u001b[0m\u001b[0;34m,\u001b[0m \u001b[0;34m'no-mask'\u001b[0m\u001b[0;34m]\u001b[0m\u001b[0;34m,\u001b[0m \u001b[0mbatch_size\u001b[0m\u001b[0;34m=\u001b[0m\u001b[0;36m10\u001b[0m\u001b[0;34m)\u001b[0m\u001b[0;34m\u001b[0m\u001b[0;34m\u001b[0m\u001b[0m\n\u001b[0m\u001b[1;32m      3\u001b[0m \u001b[0;34m\u001b[0m\u001b[0m\n\u001b[1;32m      4\u001b[0m \u001b[0mvalid_batches\u001b[0m \u001b[0;34m=\u001b[0m \u001b[0mImageDataGenerator\u001b[0m\u001b[0;34m(\u001b[0m\u001b[0mpreprocessing_function\u001b[0m\u001b[0;34m=\u001b[0m\u001b[0mtf\u001b[0m\u001b[0;34m.\u001b[0m\u001b[0mkeras\u001b[0m\u001b[0;34m.\u001b[0m\u001b[0mapplications\u001b[0m\u001b[0;34m.\u001b[0m\u001b[0mvgg16\u001b[0m\u001b[0;34m.\u001b[0m\u001b[0mpreprocess_input\u001b[0m\u001b[0;34m)\u001b[0m     \u001b[0;34m.\u001b[0m\u001b[0mflow_from_directory\u001b[0m\u001b[0;34m(\u001b[0m\u001b[0mdirectory\u001b[0m\u001b[0;34m=\u001b[0m\u001b[0mvalid_path\u001b[0m\u001b[0;34m,\u001b[0m \u001b[0mtarget_size\u001b[0m\u001b[0;34m=\u001b[0m\u001b[0;34m(\u001b[0m\u001b[0;36m224\u001b[0m\u001b[0;34m,\u001b[0m\u001b[0;36m224\u001b[0m\u001b[0;34m)\u001b[0m\u001b[0;34m,\u001b[0m \u001b[0mclasses\u001b[0m\u001b[0;34m=\u001b[0m\u001b[0;34m[\u001b[0m\u001b[0;34m'mask'\u001b[0m\u001b[0;34m,\u001b[0m \u001b[0;34m'no-mask'\u001b[0m\u001b[0;34m]\u001b[0m\u001b[0;34m,\u001b[0m \u001b[0mbatch_size\u001b[0m\u001b[0;34m=\u001b[0m\u001b[0;36m10\u001b[0m\u001b[0;34m)\u001b[0m\u001b[0;34m\u001b[0m\u001b[0;34m\u001b[0m\u001b[0m\n\u001b[1;32m      5\u001b[0m \u001b[0;34m\u001b[0m\u001b[0m\n",
            "\u001b[0;31mNameError\u001b[0m: name 'train_path' is not defined"
          ]
        }
      ]
    },
    {
      "cell_type": "code",
      "metadata": {
        "id": "aMFeer5ng6N0",
        "colab_type": "code",
        "colab": {
          "base_uri": "https://localhost:8080/",
          "height": 51
        },
        "outputId": "e08b016a-e0b5-4e06-dd79-8dfd6535c5af"
      },
      "source": [
        "# The original trained VGG16 model, along with its saved weights and other parameters\n",
        "vgg16_model = tf.keras.applications.vgg16.VGG16()"
      ],
      "execution_count": 27,
      "outputs": [
        {
          "output_type": "stream",
          "text": [
            "Downloading data from https://storage.googleapis.com/tensorflow/keras-applications/vgg16/vgg16_weights_tf_dim_ordering_tf_kernels.h5\n",
            "553467904/553467096 [==============================] - 4s 0us/step\n"
          ],
          "name": "stdout"
        }
      ]
    },
    {
      "cell_type": "code",
      "metadata": {
        "id": "ektLDy_Rg6N2",
        "colab_type": "code",
        "colab": {
          "base_uri": "https://localhost:8080/",
          "height": 935
        },
        "outputId": "3af07ea0-5f19-42dd-c5d2-46475bf85ae7"
      },
      "source": [
        "vgg16_model.summary()"
      ],
      "execution_count": 28,
      "outputs": [
        {
          "output_type": "stream",
          "text": [
            "Model: \"vgg16\"\n",
            "_________________________________________________________________\n",
            "Layer (type)                 Output Shape              Param #   \n",
            "=================================================================\n",
            "input_1 (InputLayer)         [(None, 224, 224, 3)]     0         \n",
            "_________________________________________________________________\n",
            "block1_conv1 (Conv2D)        (None, 224, 224, 64)      1792      \n",
            "_________________________________________________________________\n",
            "block1_conv2 (Conv2D)        (None, 224, 224, 64)      36928     \n",
            "_________________________________________________________________\n",
            "block1_pool (MaxPooling2D)   (None, 112, 112, 64)      0         \n",
            "_________________________________________________________________\n",
            "block2_conv1 (Conv2D)        (None, 112, 112, 128)     73856     \n",
            "_________________________________________________________________\n",
            "block2_conv2 (Conv2D)        (None, 112, 112, 128)     147584    \n",
            "_________________________________________________________________\n",
            "block2_pool (MaxPooling2D)   (None, 56, 56, 128)       0         \n",
            "_________________________________________________________________\n",
            "block3_conv1 (Conv2D)        (None, 56, 56, 256)       295168    \n",
            "_________________________________________________________________\n",
            "block3_conv2 (Conv2D)        (None, 56, 56, 256)       590080    \n",
            "_________________________________________________________________\n",
            "block3_conv3 (Conv2D)        (None, 56, 56, 256)       590080    \n",
            "_________________________________________________________________\n",
            "block3_pool (MaxPooling2D)   (None, 28, 28, 256)       0         \n",
            "_________________________________________________________________\n",
            "block4_conv1 (Conv2D)        (None, 28, 28, 512)       1180160   \n",
            "_________________________________________________________________\n",
            "block4_conv2 (Conv2D)        (None, 28, 28, 512)       2359808   \n",
            "_________________________________________________________________\n",
            "block4_conv3 (Conv2D)        (None, 28, 28, 512)       2359808   \n",
            "_________________________________________________________________\n",
            "block4_pool (MaxPooling2D)   (None, 14, 14, 512)       0         \n",
            "_________________________________________________________________\n",
            "block5_conv1 (Conv2D)        (None, 14, 14, 512)       2359808   \n",
            "_________________________________________________________________\n",
            "block5_conv2 (Conv2D)        (None, 14, 14, 512)       2359808   \n",
            "_________________________________________________________________\n",
            "block5_conv3 (Conv2D)        (None, 14, 14, 512)       2359808   \n",
            "_________________________________________________________________\n",
            "block5_pool (MaxPooling2D)   (None, 7, 7, 512)         0         \n",
            "_________________________________________________________________\n",
            "flatten (Flatten)            (None, 25088)             0         \n",
            "_________________________________________________________________\n",
            "fc1 (Dense)                  (None, 4096)              102764544 \n",
            "_________________________________________________________________\n",
            "fc2 (Dense)                  (None, 4096)              16781312  \n",
            "_________________________________________________________________\n",
            "predictions (Dense)          (None, 1000)              4097000   \n",
            "=================================================================\n",
            "Total params: 138,357,544\n",
            "Trainable params: 138,357,544\n",
            "Non-trainable params: 0\n",
            "_________________________________________________________________\n"
          ],
          "name": "stdout"
        }
      ]
    },
    {
      "cell_type": "code",
      "metadata": {
        "id": "GzbeTHzIg6N5",
        "colab_type": "code",
        "colab": {}
      },
      "source": [
        "# replicate to Sequential model and remove output layer\n",
        "model = Sequential()\n",
        "for layer in vgg16_model.layers[:-1]:\n",
        "    model.add(layer)"
      ],
      "execution_count": 29,
      "outputs": []
    },
    {
      "cell_type": "code",
      "metadata": {
        "id": "-ph1BSkIg6N7",
        "colab_type": "code",
        "colab": {}
      },
      "source": [
        "# freeze weights in all layers\n",
        "for layer in model.layers:\n",
        "    layer.trainable = False"
      ],
      "execution_count": 30,
      "outputs": []
    },
    {
      "cell_type": "code",
      "metadata": {
        "id": "9lhrc9XFg6N8",
        "colab_type": "code",
        "colab": {}
      },
      "source": [
        "# add new output layer\n",
        "model.add(Dense(units=2, activation='softmax'))"
      ],
      "execution_count": 31,
      "outputs": []
    },
    {
      "cell_type": "code",
      "metadata": {
        "id": "y0bP7MLYg6N-",
        "colab_type": "code",
        "colab": {
          "base_uri": "https://localhost:8080/",
          "height": 901
        },
        "outputId": "0de14540-6d6e-4522-c8f4-8ee9e4d4d06c"
      },
      "source": [
        "model.summary()"
      ],
      "execution_count": 32,
      "outputs": [
        {
          "output_type": "stream",
          "text": [
            "Model: \"sequential\"\n",
            "_________________________________________________________________\n",
            "Layer (type)                 Output Shape              Param #   \n",
            "=================================================================\n",
            "block1_conv1 (Conv2D)        (None, 224, 224, 64)      1792      \n",
            "_________________________________________________________________\n",
            "block1_conv2 (Conv2D)        (None, 224, 224, 64)      36928     \n",
            "_________________________________________________________________\n",
            "block1_pool (MaxPooling2D)   (None, 112, 112, 64)      0         \n",
            "_________________________________________________________________\n",
            "block2_conv1 (Conv2D)        (None, 112, 112, 128)     73856     \n",
            "_________________________________________________________________\n",
            "block2_conv2 (Conv2D)        (None, 112, 112, 128)     147584    \n",
            "_________________________________________________________________\n",
            "block2_pool (MaxPooling2D)   (None, 56, 56, 128)       0         \n",
            "_________________________________________________________________\n",
            "block3_conv1 (Conv2D)        (None, 56, 56, 256)       295168    \n",
            "_________________________________________________________________\n",
            "block3_conv2 (Conv2D)        (None, 56, 56, 256)       590080    \n",
            "_________________________________________________________________\n",
            "block3_conv3 (Conv2D)        (None, 56, 56, 256)       590080    \n",
            "_________________________________________________________________\n",
            "block3_pool (MaxPooling2D)   (None, 28, 28, 256)       0         \n",
            "_________________________________________________________________\n",
            "block4_conv1 (Conv2D)        (None, 28, 28, 512)       1180160   \n",
            "_________________________________________________________________\n",
            "block4_conv2 (Conv2D)        (None, 28, 28, 512)       2359808   \n",
            "_________________________________________________________________\n",
            "block4_conv3 (Conv2D)        (None, 28, 28, 512)       2359808   \n",
            "_________________________________________________________________\n",
            "block4_pool (MaxPooling2D)   (None, 14, 14, 512)       0         \n",
            "_________________________________________________________________\n",
            "block5_conv1 (Conv2D)        (None, 14, 14, 512)       2359808   \n",
            "_________________________________________________________________\n",
            "block5_conv2 (Conv2D)        (None, 14, 14, 512)       2359808   \n",
            "_________________________________________________________________\n",
            "block5_conv3 (Conv2D)        (None, 14, 14, 512)       2359808   \n",
            "_________________________________________________________________\n",
            "block5_pool (MaxPooling2D)   (None, 7, 7, 512)         0         \n",
            "_________________________________________________________________\n",
            "flatten (Flatten)            (None, 25088)             0         \n",
            "_________________________________________________________________\n",
            "fc1 (Dense)                  (None, 4096)              102764544 \n",
            "_________________________________________________________________\n",
            "fc2 (Dense)                  (None, 4096)              16781312  \n",
            "_________________________________________________________________\n",
            "dense (Dense)                (None, 2)                 8194      \n",
            "=================================================================\n",
            "Total params: 134,268,738\n",
            "Trainable params: 8,194\n",
            "Non-trainable params: 134,260,544\n",
            "_________________________________________________________________\n"
          ],
          "name": "stdout"
        }
      ]
    },
    {
      "cell_type": "code",
      "metadata": {
        "id": "tsCw9ZS8g6OB",
        "colab_type": "code",
        "colab": {}
      },
      "source": [
        "model.compile(optimizer=Adam(learning_rate=0.0001), loss='categorical_crossentropy', metrics=['accuracy'])"
      ],
      "execution_count": 33,
      "outputs": []
    },
    {
      "cell_type": "code",
      "metadata": {
        "id": "ambi4Qk_g6OD",
        "colab_type": "code",
        "colab": {
          "base_uri": "https://localhost:8080/",
          "height": 232
        },
        "outputId": "03c73b7b-9580-43b6-f44e-a44c02d076e0"
      },
      "source": [
        "hist_m2 = model.fit(x=train_batches,\n",
        "          steps_per_epoch=len(train_batches),\n",
        "          validation_data=valid_batches,\n",
        "          validation_steps=len(valid_batches),\n",
        "          epochs=10,\n",
        "          verbose=2\n",
        ")"
      ],
      "execution_count": 34,
      "outputs": [
        {
          "output_type": "error",
          "ename": "NameError",
          "evalue": "ignored",
          "traceback": [
            "\u001b[0;31m---------------------------------------------------------------------------\u001b[0m",
            "\u001b[0;31mNameError\u001b[0m                                 Traceback (most recent call last)",
            "\u001b[0;32m<ipython-input-34-1a6dded9fce8>\u001b[0m in \u001b[0;36m<module>\u001b[0;34m()\u001b[0m\n\u001b[0;32m----> 1\u001b[0;31m hist_m2 = model.fit(x=train_batches,\n\u001b[0m\u001b[1;32m      2\u001b[0m           \u001b[0msteps_per_epoch\u001b[0m\u001b[0;34m=\u001b[0m\u001b[0mlen\u001b[0m\u001b[0;34m(\u001b[0m\u001b[0mtrain_batches\u001b[0m\u001b[0;34m)\u001b[0m\u001b[0;34m,\u001b[0m\u001b[0;34m\u001b[0m\u001b[0;34m\u001b[0m\u001b[0m\n\u001b[1;32m      3\u001b[0m           \u001b[0mvalidation_data\u001b[0m\u001b[0;34m=\u001b[0m\u001b[0mvalid_batches\u001b[0m\u001b[0;34m,\u001b[0m\u001b[0;34m\u001b[0m\u001b[0;34m\u001b[0m\u001b[0m\n\u001b[1;32m      4\u001b[0m           \u001b[0mvalidation_steps\u001b[0m\u001b[0;34m=\u001b[0m\u001b[0mlen\u001b[0m\u001b[0;34m(\u001b[0m\u001b[0mvalid_batches\u001b[0m\u001b[0;34m)\u001b[0m\u001b[0;34m,\u001b[0m\u001b[0;34m\u001b[0m\u001b[0;34m\u001b[0m\u001b[0m\n\u001b[1;32m      5\u001b[0m           \u001b[0mepochs\u001b[0m\u001b[0;34m=\u001b[0m\u001b[0;36m10\u001b[0m\u001b[0;34m,\u001b[0m\u001b[0;34m\u001b[0m\u001b[0;34m\u001b[0m\u001b[0m\n",
            "\u001b[0;31mNameError\u001b[0m: name 'train_batches' is not defined"
          ]
        }
      ]
    },
    {
      "cell_type": "code",
      "metadata": {
        "id": "Dy3i8sDfg6OG",
        "colab_type": "code",
        "colab": {}
      },
      "source": [
        "model.save_weights('models/second_try.h5')  # always save your weights after training or during training"
      ],
      "execution_count": null,
      "outputs": []
    },
    {
      "cell_type": "code",
      "metadata": {
        "id": "3I0ilyWcg6OH",
        "colab_type": "code",
        "colab": {}
      },
      "source": [
        "plot_training_histor(hist_m2) # plot learning curve"
      ],
      "execution_count": null,
      "outputs": []
    },
    {
      "cell_type": "code",
      "metadata": {
        "id": "gOeuEK09g6OK",
        "colab_type": "code",
        "colab": {}
      },
      "source": [
        ""
      ],
      "execution_count": null,
      "outputs": []
    },
    {
      "cell_type": "code",
      "metadata": {
        "id": "NlFidA_Ug6OL",
        "colab_type": "code",
        "colab": {}
      },
      "source": [
        ""
      ],
      "execution_count": null,
      "outputs": []
    },
    {
      "cell_type": "code",
      "metadata": {
        "id": "FMKDcTLSg6OO",
        "colab_type": "code",
        "colab": {}
      },
      "source": [
        ""
      ],
      "execution_count": null,
      "outputs": []
    },
    {
      "cell_type": "markdown",
      "metadata": {
        "id": "neqExFJPg6OQ",
        "colab_type": "text"
      },
      "source": [
        "<a id='predict_cnn'></a>\n",
        "# 3. Predictions"
      ]
    },
    {
      "cell_type": "markdown",
      "metadata": {
        "id": "d-OTos57g6OQ",
        "colab_type": "text"
      },
      "source": [
        "Let's predict using our first model"
      ]
    },
    {
      "cell_type": "code",
      "metadata": {
        "id": "zXI16fLUk467",
        "colab_type": "code",
        "colab": {}
      },
      "source": [
        "model.load_weights('models/first_try.h5')"
      ],
      "execution_count": 41,
      "outputs": []
    },
    {
      "cell_type": "code",
      "metadata": {
        "id": "CYll29DTg6OR",
        "colab_type": "code",
        "colab": {
          "base_uri": "https://localhost:8080/",
          "height": 198
        },
        "outputId": "c90905c5-f5ec-400e-a833-38ff6687bb69"
      },
      "source": [
        "test_imgs, test_labels = next(test_batches)\n",
        "plotImages(test_imgs)\n",
        "print(test_labels)"
      ],
      "execution_count": 42,
      "outputs": [
        {
          "output_type": "error",
          "ename": "NameError",
          "evalue": "ignored",
          "traceback": [
            "\u001b[0;31m---------------------------------------------------------------------------\u001b[0m",
            "\u001b[0;31mNameError\u001b[0m                                 Traceback (most recent call last)",
            "\u001b[0;32m<ipython-input-42-23ce8f87b119>\u001b[0m in \u001b[0;36m<module>\u001b[0;34m()\u001b[0m\n\u001b[0;32m----> 1\u001b[0;31m \u001b[0mtest_imgs\u001b[0m\u001b[0;34m,\u001b[0m \u001b[0mtest_labels\u001b[0m \u001b[0;34m=\u001b[0m \u001b[0mnext\u001b[0m\u001b[0;34m(\u001b[0m\u001b[0mtest_batches\u001b[0m\u001b[0;34m)\u001b[0m\u001b[0;34m\u001b[0m\u001b[0;34m\u001b[0m\u001b[0m\n\u001b[0m\u001b[1;32m      2\u001b[0m \u001b[0mplotImages\u001b[0m\u001b[0;34m(\u001b[0m\u001b[0mtest_imgs\u001b[0m\u001b[0;34m)\u001b[0m\u001b[0;34m\u001b[0m\u001b[0;34m\u001b[0m\u001b[0m\n\u001b[1;32m      3\u001b[0m \u001b[0mprint\u001b[0m\u001b[0;34m(\u001b[0m\u001b[0mtest_labels\u001b[0m\u001b[0;34m)\u001b[0m\u001b[0;34m\u001b[0m\u001b[0;34m\u001b[0m\u001b[0m\n",
            "\u001b[0;31mNameError\u001b[0m: name 'test_batches' is not defined"
          ]
        }
      ]
    },
    {
      "cell_type": "code",
      "metadata": {
        "id": "YcfFKwQrg6OT",
        "colab_type": "code",
        "colab": {},
        "outputId": "cebaa2eb-c0f3-48bd-b592-533e54f05bfe"
      },
      "source": [
        "predictions = model.predict(x=test_batches, steps=len(test_batches), verbose=2)"
      ],
      "execution_count": null,
      "outputs": [
        {
          "output_type": "stream",
          "text": [
            "29/29 - 2s\n"
          ],
          "name": "stdout"
        }
      ]
    },
    {
      "cell_type": "code",
      "metadata": {
        "id": "zx7mhQm_g6OV",
        "colab_type": "code",
        "colab": {}
      },
      "source": [
        "predictions = np.round(predictions)"
      ],
      "execution_count": null,
      "outputs": []
    },
    {
      "cell_type": "code",
      "metadata": {
        "id": "AJKFrhOBg6OX",
        "colab_type": "code",
        "colab": {},
        "outputId": "562babbb-9ebb-4859-a48e-b27a40f6bb77"
      },
      "source": [
        ""
      ],
      "execution_count": null,
      "outputs": [
        {
          "output_type": "execute_result",
          "data": {
            "text/plain": [
              "array([1., 0.], dtype=float32)"
            ]
          },
          "metadata": {
            "tags": []
          },
          "execution_count": 197
        }
      ]
    },
    {
      "cell_type": "markdown",
      "metadata": {
        "id": "4q-UMLHzg6Oa",
        "colab_type": "text"
      },
      "source": [
        "### Plot Predictions With A Confusion Matrix function using [scikit-learn](https://scikit-learn.org/stable/auto_examples/model_selection/plot_confusion_matrix.html#sphx-glr-auto-examples-model-selection-plot-confusion-matrix-py)"
      ]
    },
    {
      "cell_type": "code",
      "metadata": {
        "id": "f7eWFM_Rg6Oa",
        "colab_type": "code",
        "colab": {}
      },
      "source": [
        "def plot_confusion_matrix(cm, classes,\n",
        "                          normalize=False,\n",
        "                          title='Confusion matrix',\n",
        "                          cmap=plt.cm.Blues):\n",
        "    \"\"\"\n",
        "    This function prints and plots the confusion matrix.\n",
        "    Normalization can be applied by setting `normalize=True`.\n",
        "    \"\"\"\n",
        "    plt.imshow(cm, interpolation='nearest', cmap=cmap)\n",
        "    plt.title(title)\n",
        "    plt.colorbar()\n",
        "    tick_marks = np.arange(len(classes))\n",
        "    plt.xticks(tick_marks, classes, rotation=45)\n",
        "    plt.yticks(tick_marks, classes)\n",
        "\n",
        "    if normalize:\n",
        "        cm = cm.astype('float') / cm.sum(axis=1)[:, np.newaxis]\n",
        "        print(\"Normalized confusion matrix\")\n",
        "    else:\n",
        "        print('Confusion matrix, without normalization')\n",
        "\n",
        "    print(cm)\n",
        "\n",
        "    thresh = cm.max() / 2.\n",
        "    for i, j in itertools.product(range(cm.shape[0]), range(cm.shape[1])):\n",
        "        plt.text(j, i, cm[i, j],\n",
        "            horizontalalignment=\"center\",\n",
        "            color=\"white\" if cm[i, j] > thresh else \"black\")\n",
        "\n",
        "    plt.tight_layout()\n",
        "    plt.ylabel('True label')\n",
        "    plt.xlabel('Predicted label')"
      ],
      "execution_count": null,
      "outputs": []
    },
    {
      "cell_type": "code",
      "metadata": {
        "id": "yruGgNBDg6Od",
        "colab_type": "code",
        "colab": {},
        "outputId": "6e54a4bf-21f1-431f-89f2-d625d64b65ef"
      },
      "source": [
        "cm = confusion_matrix(y_true=test_batches.classes, y_pred=np.argmax(predictions, axis=-1))\n",
        "cm_plot_labels = ['mask','no-mask']\n",
        "plot_confusion_matrix(cm=cm, classes=cm_plot_labels, title='Confusion Matrix')"
      ],
      "execution_count": null,
      "outputs": [
        {
          "output_type": "stream",
          "text": [
            "Confusion matrix, without normalization\n",
            "[[206   3]\n",
            " [  7  71]]\n"
          ],
          "name": "stdout"
        },
        {
          "output_type": "display_data",
          "data": {
            "image/png": "[encoded data removed]",
            "text/plain": [
              "<Figure size 432x288 with 2 Axes>"
            ]
          },
          "metadata": {
            "tags": [],
            "needs_background": "light"
          }
        }
      ]
    },
    {
      "cell_type": "markdown",
      "metadata": {
        "id": "NP6ie-dZg6Of",
        "colab_type": "text"
      },
      "source": [
        "We can see that the model incorrectly predicted only 10 samples out of 277. This gives us 96% accuracy on the test set, not bad!"
      ]
    },
    {
      "cell_type": "code",
      "metadata": {
        "id": "QQc0gMjEg6Og",
        "colab_type": "code",
        "colab": {
          "base_uri": "https://localhost:8080/",
          "height": 34
        },
        "outputId": "67de6f80-ab33-4f21-ff0a-69e98d30d1cd"
      },
      "source": [
        "me_batches = ImageDataGenerator(rescale=1./255) \\\n",
        "    .flow_from_directory(directory='data/me', target_size=(224,224), classes=['mask', 'no-mask'], batch_size=10, shuffle=False)"
      ],
      "execution_count": 43,
      "outputs": [
        {
          "output_type": "stream",
          "text": [
            "Found 3 images belonging to 2 classes.\n"
          ],
          "name": "stdout"
        }
      ]
    },
    {
      "cell_type": "code",
      "metadata": {
        "id": "bH77NEySg6Oi",
        "colab_type": "code",
        "colab": {
          "base_uri": "https://localhost:8080/",
          "height": 1000
        },
        "outputId": "001606cd-98d9-4d96-b0b0-2e1302ea93c2"
      },
      "source": [
        "me_imgs, me_labels = next(me_batches)\n",
        "plotImages(me_imgs)\n",
        "print(me_labels)"
      ],
      "execution_count": 49,
      "outputs": [
        {
          "output_type": "display_data",
          "data": {
            "image/png": "[encoded data removed]",
            "text/plain": [
              "<Figure size 1440x1440 with 10 Axes>"
            ]
          },
          "metadata": {
            "tags": [],
            "needs_background": "light"
          }
        },
        {
          "output_type": "stream",
          "text": [
            "[[1. 0.]\n",
            " [0. 1.]\n",
            " [0. 1.]]\n"
          ],
          "name": "stdout"
        }
      ]
    },
    {
      "cell_type": "code",
      "metadata": {
        "id": "A1uMrcxNg6Om",
        "colab_type": "code",
        "colab": {
          "base_uri": "https://localhost:8080/",
          "height": 34
        },
        "outputId": "da9267ab-9ec1-4b7b-9ba9-d2c448980f43"
      },
      "source": [
        "predictions_me = model.predict(x=me_batches, steps=len(me_batches), verbose=2)"
      ],
      "execution_count": 50,
      "outputs": [
        {
          "output_type": "stream",
          "text": [
            "1/1 - 0s\n"
          ],
          "name": "stdout"
        }
      ]
    },
    {
      "cell_type": "code",
      "metadata": {
        "id": "Jcg7pi-Kg6Op",
        "colab_type": "code",
        "colab": {
          "base_uri": "https://localhost:8080/",
          "height": 68
        },
        "outputId": "024693a3-5d70-47f9-8801-a76bc83b607e"
      },
      "source": [
        "predictions_me"
      ],
      "execution_count": 51,
      "outputs": [
        {
          "output_type": "execute_result",
          "data": {
            "text/plain": [
              "array([[0.9989907 , 0.00100928],\n",
              "       [0.16632251, 0.8336775 ],\n",
              "       [0.09037535, 0.9096247 ]], dtype=float32)"
            ]
          },
          "metadata": {
            "tags": []
          },
          "execution_count": 51
        }
      ]
    },
    {
      "cell_type": "code",
      "metadata": {
        "id": "PrPfwhI5g6Or",
        "colab_type": "code",
        "colab": {}
      },
      "source": [
        ""
      ],
      "execution_count": null,
      "outputs": []
    },
    {
      "cell_type": "code",
      "metadata": {
        "id": "q7yTcvEqg6Ou",
        "colab_type": "code",
        "colab": {}
      },
      "source": [
        ""
      ],
      "execution_count": null,
      "outputs": []
    },
    {
      "cell_type": "code",
      "metadata": {
        "id": "j94p96Ftg6Ov",
        "colab_type": "code",
        "colab": {}
      },
      "source": [
        ""
      ],
      "execution_count": null,
      "outputs": []
    }
  ]
}